version https://git-lfs.github.com/spec/v1
oid sha256:38c797f237cac7ca4a4f5d4a9d13d59beebaa8b3614350b7c759a7c69049282a
size 27413799
