version https://git-lfs.github.com/spec/v1
oid sha256:d4d0d47f27d6a72d765003f24afc3caa6995ae5155306e0001db454915349e9e
size 5871954
